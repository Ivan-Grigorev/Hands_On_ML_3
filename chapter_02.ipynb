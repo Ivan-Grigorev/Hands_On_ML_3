{
 "cells": [
  {
   "cell_type": "markdown",
   "id": "2ea82085-19ed-4c29-ba20-20001fadf1b3",
   "metadata": {},
   "source": [
    "<h1>Chapter 02. End-to-End Machine Learning Project</h1>"
   ]
  },
  {
   "cell_type": "markdown",
   "id": "34ae4d4b-f9a0-40cf-a03f-ec93de5379b2",
   "metadata": {},
   "source": [
    "In this chapter, an example project will be worked through from end to end, with the perspective of being a newly hired data scientist at a real estate company. Although this example is fictitious, the main steps of a machine learning project will be illustrated, rather than focusing on learning about the real estate business. The following steps will be covered:\n",
    "- The big picture will be examined.\n",
    "- The data will be obtained.\n",
    "- The data will be explored and visualized to gain insights.\n",
    "- The data will be prepared for machine learning algorithms.\n",
    "- A model will be selected and trained.\n",
    "- The model will be fine-tuned.\n",
    "- The solution will be presented.\n",
    "- The system will be launched, monitored, and maintained."
   ]
  },
  {
   "cell_type": "code",
   "execution_count": null,
   "id": "2c62d98c-ecaa-4bb3-a7ac-6d24ee5cd0e7",
   "metadata": {},
   "outputs": [],
   "source": []
  }
 ],
 "metadata": {
  "kernelspec": {
   "display_name": "Python 3 (ipykernel)",
   "language": "python",
   "name": "python3"
  },
  "language_info": {
   "codemirror_mode": {
    "name": "ipython",
    "version": 3
   },
   "file_extension": ".py",
   "mimetype": "text/x-python",
   "name": "python",
   "nbconvert_exporter": "python",
   "pygments_lexer": "ipython3",
   "version": "3.12.1"
  }
 },
 "nbformat": 4,
 "nbformat_minor": 5
}
